{
  "nbformat": 4,
  "nbformat_minor": 0,
  "metadata": {
    "colab": {
      "name": "HousePrice.ipynb",
      "version": "0.3.2",
      "provenance": [],
      "collapsed_sections": [],
      "include_colab_link": true
    },
    "kernelspec": {
      "name": "python3",
      "display_name": "Python 3"
    }
  },
  "cells": [
    {
      "cell_type": "markdown",
      "metadata": {
        "id": "view-in-github",
        "colab_type": "text"
      },
      "source": [
        "<a href=\"https://colab.research.google.com/github/yuminliu/KaggleHousePrices/blob/master/HousePrice.ipynb\" target=\"_parent\"><img src=\"https://colab.research.google.com/assets/colab-badge.svg\" alt=\"Open In Colab\"/></a>"
      ]
    },
    {
      "metadata": {
        "id": "y8lWKaDN7DKc",
        "colab_type": "code",
        "colab": {}
      },
      "cell_type": "code",
      "source": [
        "import pandas as pd\n",
        "import numpy as np\n",
        "import seaborn as sns\n",
        "import matplotlib.pyplot as plt\n",
        "from scipy import stats\n",
        "from scipy.stats import norm\n",
        "import copy\n",
        "#%matplotlib inline"
      ],
      "execution_count": 0,
      "outputs": []
    },
    {
      "metadata": {
        "id": "GPCdhydf8O6B",
        "colab_type": "text"
      },
      "cell_type": "markdown",
      "source": [
        "read in data"
      ]
    },
    {
      "metadata": {
        "id": "6-HsBDMn8SI-",
        "colab_type": "code",
        "colab": {}
      },
      "cell_type": "code",
      "source": [
        "#%% read in data\n",
        "#### if run in local\n",
        "#train = pd.read_csv('../data/train.csv')\n",
        "#test = pd.read_csv('../data/test.csv')\n",
        "\n",
        "#train = pd.read_csv('./train.csv')\n",
        "#test = pd.read_csv('./test.csv')\n",
        "\n",
        "#### if run from google drive\n",
        "from google.colab import drive\n",
        "drive.mount('/content/gdrive')\n",
        "\n",
        "train_filename = '/content/gdrive/My Drive/Colab Notebooks/PingAnDataChallenge/data/train.csv'\n",
        "test_filename = '/content/gdrive/My Drive/Colab Notebooks/PingAnDataChallenge/data/test.csv'\n",
        "train = pd.read_csv(train_filename)\n",
        "test = pd.read_csv(test_filename)"
      ],
      "execution_count": 0,
      "outputs": []
    },
    {
      "metadata": {
        "id": "aS2d7jxi8uEZ",
        "colab_type": "text"
      },
      "cell_type": "markdown",
      "source": [
        "separate id"
      ]
    },
    {
      "metadata": {
        "id": "EOiJNDP781Hi",
        "colab_type": "code",
        "colab": {}
      },
      "cell_type": "code",
      "source": [
        "train_id = train['Id']\n",
        "train = train.drop(['Id'],axis=1)\n",
        "test_id = test['Id']\n",
        "test = test.drop(['Id'],axis=1)\n",
        "test['SalePrice'] = 0"
      ],
      "execution_count": 0,
      "outputs": []
    },
    {
      "metadata": {
        "id": "sr_EQNek87E7",
        "colab_type": "text"
      },
      "cell_type": "markdown",
      "source": [
        "remove outliers of continuous features in training data, first get the continuous features"
      ]
    },
    {
      "metadata": {
        "id": "gaawufNQ9A5L",
        "colab_type": "code",
        "colab": {}
      },
      "cell_type": "code",
      "source": [
        "continuous = list(['LotArea','MasVnrArea','BsmtFinSF1','BsmtFinSF2','BsmtUnfSF',\\\n",
        "                   'TotalBsmtSF','1stFlrSF','2ndFlrSF','LowQualFinSF','GrLivArea',\\\n",
        "                   'GarageArea','WoodDeckSF','OpenPorchSF','EnclosedPorch','3SsnPorch',\\\n",
        "                   'ScreenPorch','MiscVal','SalePrice'])"
      ],
      "execution_count": 0,
      "outputs": []
    },
    {
      "metadata": {
        "id": "NfwMLY-T9Lmt",
        "colab_type": "text"
      },
      "cell_type": "markdown",
      "source": [
        "plot the continuous features and fit a regression the them, and then visually find out the outliers"
      ]
    },
    {
      "metadata": {
        "id": "4b4_sWH09cbd",
        "colab_type": "code",
        "colab": {}
      },
      "cell_type": "code",
      "source": [
        "ncols = 4\n",
        "nrows = int(np.ceil(len(continuous)/ncols))\n",
        "fig, axs = plt.subplots(ncols=ncols,nrows=nrows,figsize=(50,30),sharey=True)\n",
        "for i in range(nrows):\n",
        "   for j in range(ncols):\n",
        "       ind = i*ncols+j\n",
        "       if(ind>=len(continuous)):\n",
        "           break\n",
        "       var = continuous[i*ncols+j]\n",
        "       sns.regplot(x=var, y='SalePrice', data=train, ax=axs[i][j])"
      ],
      "execution_count": 0,
      "outputs": []
    },
    {
      "metadata": {
        "id": "ud38FK7L95uw",
        "colab_type": "text"
      },
      "cell_type": "markdown",
      "source": [
        "now remove the outliers in the training data"
      ]
    },
    {
      "metadata": {
        "id": "DlD05hc7-BSO",
        "colab_type": "code",
        "colab": {}
      },
      "cell_type": "code",
      "source": [
        "train = train.drop(train.loc[train['LotArea']>100000].index,axis=0)\n",
        "train = train.drop(train.loc[train['BsmtFinSF1']>2000].index,axis=0)\n",
        "train = train.drop(train.loc[train['TotalBsmtSF']>4000].index,axis=0)\n",
        "train = train.drop(train.loc[train['1stFlrSF']>3000].index,axis=0)\n",
        "train = train.drop(train.loc[train['GrLivArea']>4500].index,axis=0)\n",
        "train = train.drop(train.loc[train['MiscVal']>3000].index,axis=0)\n",
        "train = train.drop(train.loc[train['EnclosedPorch']>400].index,axis=0)\n",
        "train = train.drop(train.loc[train['GarageArea']>1200].index,axis=0)\n",
        "train_num = len(train)"
      ],
      "execution_count": 0,
      "outputs": []
    },
    {
      "metadata": {
        "id": "ZJ0Yw-UEAxr_",
        "colab_type": "text"
      },
      "cell_type": "markdown",
      "source": [
        "we may want to delete missing data in training data. This will have pros and cons. In one hand, removing them will give more \"clean\" data for training thus maybe benificial; in the other hand, removing them will resulting less data for training thus maybe harmful"
      ]
    },
    {
      "metadata": {
        "colab_type": "code",
        "id": "-HUaKMlnUFHk",
        "colab": {}
      },
      "cell_type": "code",
      "source": [
        "#for var in list(train.columns.values):\n",
        "#   train = train.drop(train.loc[train[var].isnull()].index,axis=0)\n",
        "#absnum_train = train.isnull().sum().sort_values(ascending=False)\n",
        "#percent_train = (train.isnull().sum()/train.isnull().count()).sort_values(ascending=False)\n",
        "#missing_train = pd.concat([absnum_train,percent_train],axis=1,keys=['AbsNum_train','Percent_train'])\n",
        "#missing_train.head(20)   \n",
        "#absnum_test = test.isnull().sum().sort_values(ascending=False)\n",
        "#percent_test = (test.isnull().sum()/test.isnull().count()).sort_values(ascending=False)\n",
        "#missing_test = pd.concat([absnum_test,percent_test],axis=1,keys=['AbsNum_test','Percent_test'])\n",
        "#missing_test.head(20) "
      ],
      "execution_count": 0,
      "outputs": []
    },
    {
      "metadata": {
        "id": "AjhrY-qgECUy",
        "colab_type": "code",
        "outputId": "630ef45a-7d9a-4026-ce26-ac032169d4ff",
        "colab": {
          "base_uri": "https://localhost:8080/",
          "height": 35
        }
      },
      "cell_type": "code",
      "source": [
        "pd.__version__"
      ],
      "execution_count": 12,
      "outputs": [
        {
          "output_type": "execute_result",
          "data": {
            "text/plain": [
              "'0.22.0'"
            ]
          },
          "metadata": {
            "tags": []
          },
          "execution_count": 12
        }
      ]
    },
    {
      "metadata": {
        "id": "0GG5GQjO-QXC",
        "colab_type": "text"
      },
      "cell_type": "markdown",
      "source": [
        "fill in missing data according to different type"
      ]
    },
    {
      "metadata": {
        "id": "RJ8Kn44U-oZ5",
        "colab_type": "text"
      },
      "cell_type": "markdown",
      "source": [
        "in all the cases the values in 'Utilities' are 'AllPub' except for 3 cases, thus it will not be helpful for prediction and it's safe to remove. NA in those nanisnone categorical values means absence of the features, thus they are filled with 'None'. NA in those naniszero numerical values means absence of the features, thus they are filled with 0"
      ]
    },
    {
      "metadata": {
        "id": "KV5e65Lv-WVg",
        "colab_type": "code",
        "colab": {}
      },
      "cell_type": "code",
      "source": [
        "vartodelete = list(['Utilities'])\n",
        "nanisnone = list(['GarageCond','GarageFinish','GarageQual','GarageType','BsmtCond',\\\n",
        "                'BsmtExposure','BsmtQual','BsmtFinType2','BsmtFinType1',\\\n",
        "                'MasVnrType','PoolQC','MiscFeature','Alley',\\\n",
        "                'Fence','FireplaceQu'])\n",
        "naniszero = list(['MasVnrArea','GarageCars','GarageArea','BsmtFinSF1',\\\n",
        "                  'BsmtFullBath','BsmtHalfBath','TotalBsmtSF','BsmtUnfSF',\\\n",
        "                  'BsmtFinSF2'])\n",
        "for var in vartodelete:\n",
        "    train = train.drop(var,axis=1)\n",
        "    test = test.drop(var,axis=1)\n",
        "for var in nanisnone: \n",
        "    train[var] = train[var].fillna('None')\n",
        "    test[var] = test[var].fillna('None')\n",
        "for var in naniszero:\n",
        "    train[var] = train[var].fillna(0)\n",
        "    test[var] = test[var].fillna(0)"
      ],
      "execution_count": 0,
      "outputs": []
    },
    {
      "metadata": {
        "id": "q-W-vswRU9Zb",
        "colab_type": "text"
      },
      "cell_type": "markdown",
      "source": [
        "delete missing instances in training data"
      ]
    },
    {
      "metadata": {
        "id": "nJhBfoPEVDxd",
        "colab_type": "code",
        "colab": {}
      },
      "cell_type": "code",
      "source": [
        "for var in list(train.columns.values):\n",
        "   train = train.drop(train.loc[train[var].isnull()].index,axis=0)\n",
        "train_num = len(train)\n",
        "#absnum_train = train.isnull().sum().sort_values(ascending=False)\n",
        "#percent_train = (train.isnull().sum()/train.isnull().count()).sort_values(ascending=False)\n",
        "#missing_train = pd.concat([absnum_train,percent_train],axis=1,keys=['AbsNum_train','Percent_train'])\n",
        "#missing_train.head(60)   \n",
        "#absnum_test = test.isnull().sum().sort_values(ascending=False)\n",
        "#percent_test = (test.isnull().sum()/test.isnull().count()).sort_values(ascending=False)\n",
        "#missing_test = pd.concat([absnum_test,percent_test],axis=1,keys=['AbsNum_test','Percent_test'])\n",
        "#missing_test.head(20) "
      ],
      "execution_count": 0,
      "outputs": []
    },
    {
      "metadata": {
        "id": "2m-sw5Ic_oYU",
        "colab_type": "text"
      },
      "cell_type": "markdown",
      "source": [
        "NA in those categorical values means really no data, thus filled with most common values seem all over the same column"
      ]
    },
    {
      "metadata": {
        "id": "4OtdN6c8_o8P",
        "colab_type": "code",
        "colab": {}
      },
      "cell_type": "code",
      "source": [
        "nanismode = list(['MSZoning','Functional','Exterior1st','Exterior2nd',\\\n",
        "                  'KitchenQual','SaleType','Electrical'])\n",
        "for var in nanismode:\n",
        "    train[var] = train[var].fillna(train[var].mode()[0])\n",
        "    test[var] = test[var].fillna(train[var].mode()[0])"
      ],
      "execution_count": 0,
      "outputs": []
    },
    {
      "metadata": {
        "id": "IU89trvNACqM",
        "colab_type": "text"
      },
      "cell_type": "markdown",
      "source": [
        "NA in those categorical values means really no data, thus filled with most common values seem all over the same column and maybe more accurate by filling with most common values in the same Neighbour"
      ]
    },
    {
      "metadata": {
        "id": "cwg5cy42ADNy",
        "colab_type": "code",
        "colab": {}
      },
      "cell_type": "code",
      "source": [
        "nanisothers = list(['LotFrontage','GarageYrBlt'])  \n",
        "for var in nanisothers:\n",
        "    train[var] = train.groupby(\"Neighborhood\")[var].transform(lambda x: x.fillna(x.median()))\n",
        "    #test[var] = test[var].fillna(train.groupby(\"Neighborhood\")[var].median())\n",
        "    test[var] = test[var].fillna(train[var].median())\n"
      ],
      "execution_count": 0,
      "outputs": []
    },
    {
      "metadata": {
        "id": "KYSM4Q4oBhFo",
        "colab_type": "text"
      },
      "cell_type": "markdown",
      "source": [
        "tranform acutal categorical data or numerical data"
      ]
    },
    {
      "metadata": {
        "id": "1gJz8OjDBoSD",
        "colab_type": "code",
        "colab": {}
      },
      "cell_type": "code",
      "source": [
        "#num2cat_var = list(['MSSubClass'])\n",
        "#cat2num_var = list(['GarageYrBlt'])\n",
        "num2cat_var = list(['MSSubClass','YrSold','MoSold'])\n",
        "cat2num_var = list([])\n",
        "for var in num2cat_var:\n",
        "    train[var] = train[var].astype(str)\n",
        "    test[var] = test[var].astype(str)\n",
        "for var in cat2num_var:\n",
        "    train[var] = train[var].astype(float)  \n",
        "    test[var] = test[var].astype(float)"
      ],
      "execution_count": 0,
      "outputs": []
    },
    {
      "metadata": {
        "id": "82hv-3VuVn_6",
        "colab_type": "text"
      },
      "cell_type": "markdown",
      "source": [
        "transform target y to log"
      ]
    },
    {
      "metadata": {
        "id": "9_QEN6j5VsCx",
        "colab_type": "code",
        "colab": {}
      },
      "cell_type": "code",
      "source": [
        "train['SalePrice'] = np.log1p(train['SalePrice'])"
      ],
      "execution_count": 0,
      "outputs": []
    },
    {
      "metadata": {
        "id": "GRGuzp9MVxYc",
        "colab_type": "text"
      },
      "cell_type": "markdown",
      "source": [
        "concatenate training and testing data to to further preprocessing together"
      ]
    },
    {
      "metadata": {
        "id": "gVDR2Am2V0N2",
        "colab_type": "code",
        "colab": {}
      },
      "cell_type": "code",
      "source": [
        "#data_all = pd.concat([train,test],axis=0,sort=False).reset_index(drop=True)\n",
        "data_all = pd.concat([train,test],axis=0).reset_index(drop=True)"
      ],
      "execution_count": 0,
      "outputs": []
    },
    {
      "metadata": {
        "id": "HwSOaPuVBt-I",
        "colab_type": "text"
      },
      "cell_type": "markdown",
      "source": [
        "encode categorical data whose order may contain information"
      ]
    },
    {
      "metadata": {
        "id": "d9-0pT-UByhh",
        "colab_type": "code",
        "colab": {}
      },
      "cell_type": "code",
      "source": [
        "from sklearn.preprocessing import LabelEncoder\n",
        "vartoencode = list(['FireplaceQu', 'BsmtQual', 'BsmtCond', 'GarageQual', 'GarageCond', \n",
        "        'ExterQual', 'ExterCond','HeatingQC', 'PoolQC', 'KitchenQual', 'BsmtFinType1', \n",
        "        'BsmtFinType2', 'Functional', 'Fence', 'BsmtExposure', 'GarageFinish', 'LandSlope',\n",
        "        'LotShape', 'PavedDrive', 'Street', 'Alley', 'CentralAir', 'MSSubClass', 'OverallCond', \n",
        "        'YrSold', 'MoSold'])\n",
        "#vartoencode = list(['FireplaceQu', 'BsmtQual', 'BsmtCond', 'GarageQual', 'GarageCond', \n",
        "#        'ExterQual', 'ExterCond','HeatingQC', 'PoolQC', 'KitchenQual', 'BsmtFinType1', \n",
        "#        'BsmtFinType2', 'Functional', 'Fence', 'BsmtExposure', 'GarageFinish', 'LandSlope',\n",
        "#        'LotShape', 'PavedDrive', 'Street', 'Alley', 'CentralAir'])\n",
        "lbe = LabelEncoder() \n",
        "for var in vartoencode:\n",
        "    lbe.fit_transform(list(data_all[var].values))\n",
        "    #lbe.fit(list(train[var].values)) \n",
        "    #train[var] = lbe.transform(list(train[var].values))\n",
        "    #lbe.fit(list(test[var].values)) \n",
        "    #test[var] = lbe.transform(list(test[var].values))"
      ],
      "execution_count": 0,
      "outputs": []
    },
    {
      "metadata": {
        "id": "iitz0s3aCM2d",
        "colab_type": "text"
      },
      "cell_type": "markdown",
      "source": [
        "get dummy variables for the categorical data"
      ]
    },
    {
      "metadata": {
        "id": "jPDYBwakCQh2",
        "colab_type": "code",
        "colab": {}
      },
      "cell_type": "code",
      "source": [
        "data_all = pd.get_dummies(data_all)"
      ],
      "execution_count": 0,
      "outputs": []
    },
    {
      "metadata": {
        "id": "yz5C31LfCWbc",
        "colab_type": "text"
      },
      "cell_type": "markdown",
      "source": [
        "split training and testing data"
      ]
    },
    {
      "metadata": {
        "id": "T0oYp-ieCYR9",
        "colab_type": "code",
        "colab": {}
      },
      "cell_type": "code",
      "source": [
        "\n",
        "train = data_all[:train_num]\n",
        "test = data_all[train_num:]\n",
        "\n",
        "train_y = train['SalePrice']\n",
        "train_x = train.drop('SalePrice',axis=1)\n",
        "test_y = test['SalePrice']\n",
        "test_x = test.drop('SalePrice',axis=1)"
      ],
      "execution_count": 0,
      "outputs": []
    },
    {
      "metadata": {
        "id": "tRe1wUdZCbgf",
        "colab_type": "text"
      },
      "cell_type": "markdown",
      "source": [
        "transform dataframe into numpy arrays, this is for xgb"
      ]
    },
    {
      "metadata": {
        "id": "dKI_0O1ECgqE",
        "colab_type": "code",
        "colab": {}
      },
      "cell_type": "code",
      "source": [
        "train_y = train_y.values\n",
        "train_x = train_x.values\n",
        "test_y = test_y.values\n",
        "test_x = test_x.values"
      ],
      "execution_count": 0,
      "outputs": []
    },
    {
      "metadata": {
        "id": "FaseuZtHCoJV",
        "colab_type": "text"
      },
      "cell_type": "markdown",
      "source": [
        "use PCA to reduce dimensions, this is not necessary"
      ]
    },
    {
      "metadata": {
        "id": "WD1bAam_Cq-Y",
        "colab_type": "code",
        "colab": {}
      },
      "cell_type": "code",
      "source": [
        "#from sklearn.decomposition import PCA\n",
        "#pca = PCA(n_components=100)\n",
        "#pca.fit_transform(train_x)\n",
        "#pca.transform(test_x)"
      ],
      "execution_count": 0,
      "outputs": []
    },
    {
      "metadata": {
        "id": "4eEDSEeECztF",
        "colab_type": "text"
      },
      "cell_type": "markdown",
      "source": [
        "split training data into new training data and validation data"
      ]
    },
    {
      "metadata": {
        "id": "nF1K6c2pC12s",
        "colab_type": "code",
        "colab": {}
      },
      "cell_type": "code",
      "source": [
        "from sklearn.model_selection import train_test_split\n",
        "X_train, X_valid, y_train, y_valid = train_test_split(train_x, train_y, test_size=0.25, random_state=42)"
      ],
      "execution_count": 0,
      "outputs": []
    },
    {
      "metadata": {
        "id": "81cysHv-C4v5",
        "colab_type": "text"
      },
      "cell_type": "markdown",
      "source": [
        "fit to models"
      ]
    },
    {
      "metadata": {
        "id": "WK3twXt8C7Xx",
        "colab_type": "code",
        "colab": {}
      },
      "cell_type": "code",
      "source": [
        "from sklearn.linear_model import Lasso, LassoCV, Ridge, RidgeCV, ElasticNet\n",
        "from sklearn.ensemble import RandomForestRegressor\n",
        "\n",
        "def write_submission(y_test_pred,test_id=test_id,filename='submission.csv'):\n",
        "    submission = pd.DataFrame()\n",
        "    submission['Id'] = test_id\n",
        "    submission['SalePrice'] = y_test_pred\n",
        "    #submission.to_csv('../results/'+filename,index=False)\n",
        "    submission.to_csv('./'+filename,index=False)"
      ],
      "execution_count": 0,
      "outputs": []
    },
    {
      "metadata": {
        "id": "q0HSLUJIC-Wo",
        "colab_type": "text"
      },
      "cell_type": "markdown",
      "source": [
        "lasso regression"
      ]
    },
    {
      "metadata": {
        "id": "Ky7J5WOKWeOh",
        "colab_type": "code",
        "colab": {
          "base_uri": "https://localhost:8080/",
          "height": 52
        },
        "outputId": "a3fdb180-4128-4b75-c754-ba8c690911ee"
      },
      "cell_type": "code",
      "source": [
        "alpha = 5e-5   \n",
        "lasso = Lasso(alpha=alpha,random_state=42)\n",
        "lasso.fit(X_train, y_train)\n",
        "y_train_pred_lasso = lasso.predict(X_train)\n",
        "y_valid_pred_lasso = lasso.predict(X_valid)\n",
        "y_test_pred_lasso = lasso.predict(test_x)\n",
        "y_test_pred_lasso = np.exp(y_test_pred_lasso) - 1\n",
        "train_rmse_lasso = np.sqrt(np.mean((y_train-y_train_pred_lasso)**2))\n",
        "valid_rmse_lasso = np.sqrt(np.mean((y_valid-y_valid_pred_lasso)**2))\n",
        "print(\"lasso train rmse is: {};\\nvalidate rmse is: {}\".format(train_rmse_lasso,valid_rmse_lasso))\n",
        "write_submission(y_test_pred=y_test_pred_lasso,filename='lasso_submission.csv')"
      ],
      "execution_count": 29,
      "outputs": [
        {
          "output_type": "stream",
          "text": [
            "lasso train rmse is: 0.07798392173558757;\n",
            "validate rmse is: 0.12246391525560345\n"
          ],
          "name": "stdout"
        }
      ]
    },
    {
      "metadata": {
        "id": "mJ5D2VMFWa6o",
        "colab_type": "text"
      },
      "cell_type": "markdown",
      "source": [
        "lassoCV"
      ]
    },
    {
      "metadata": {
        "id": "H5e5JHaUDAeJ",
        "colab_type": "code",
        "outputId": "da72be68-ec51-4cc3-8a2f-b9cf6c85002e",
        "colab": {
          "base_uri": "https://localhost:8080/",
          "height": 125
        }
      },
      "cell_type": "code",
      "source": [
        "alphas = [1e-5,5e-5,1e-4,5e-4,1e-3,5e-3,1e-2,1e-1,1.0,10.0]    \n",
        "lassocv = LassoCV(alphas=alphas,random_state=42)\n",
        "lassocv.fit(X_train, y_train)\n",
        "print(lassocv.alpha_)\n",
        "y_train_pred_lassocv = lassocv.predict(X_train)\n",
        "y_valid_pred_lassocv = lassocv.predict(X_valid)\n",
        "y_test_pred_lassocv = lassocv.predict(test_x)\n",
        "y_test_pred_lassocv = np.exp(y_test_pred_lassocv) - 1\n",
        "train_rmse_lassocv = np.sqrt(np.mean((y_train-y_train_pred_lassocv)**2))\n",
        "valid_rmse_lassocv = np.sqrt(np.mean((y_valid-y_valid_pred_lassocv)**2))\n",
        "print(\"lassocv train rmse is: {};\\nvalidate rmse is: {}\".format(train_rmse_lassocv,valid_rmse_lassocv))\n",
        "write_submission(y_test_pred=y_test_pred_lassocv,filename='lassocv_submission.csv')"
      ],
      "execution_count": 30,
      "outputs": [
        {
          "output_type": "stream",
          "text": [
            "/usr/local/lib/python3.6/dist-packages/sklearn/linear_model/coordinate_descent.py:491: ConvergenceWarning: Objective did not converge. You might want to increase the number of iterations. Fitting data with very small alpha may cause precision problems.\n",
            "  ConvergenceWarning)\n"
          ],
          "name": "stderr"
        },
        {
          "output_type": "stream",
          "text": [
            "0.0005\n",
            "lassocv train rmse is: 0.08877408044135891;\n",
            "validate rmse is: 0.11119752999624133\n"
          ],
          "name": "stdout"
        }
      ]
    },
    {
      "metadata": {
        "id": "DOAWTJo-DDeA",
        "colab_type": "text"
      },
      "cell_type": "markdown",
      "source": [
        "ridge regression"
      ]
    },
    {
      "metadata": {
        "id": "9PixoVEIWqvv",
        "colab_type": "code",
        "colab": {
          "base_uri": "https://localhost:8080/",
          "height": 52
        },
        "outputId": "0d5b4068-033d-4fe5-85e5-b02a0651b017"
      },
      "cell_type": "code",
      "source": [
        "alpha = 5e-5\n",
        "ridge = Ridge(alpha=alpha,random_state=42)\n",
        "ridge.fit(X_train, y_train)\n",
        "y_train_pred_ridge = ridge.predict(X_train)\n",
        "y_valid_pred_ridge = ridge.predict(X_valid)\n",
        "y_test_pred_ridge = ridge.predict(test_x)\n",
        "y_test_pred_ridge = np.exp(y_test_pred_ridge) - 1\n",
        "train_rmse_ridge = np.sqrt(np.mean((y_train-y_train_pred_ridge)**2))\n",
        "valid_rmse_ridge = np.sqrt(np.mean((y_valid-y_valid_pred_ridge)**2))\n",
        "print(\"ridge train rmse is: {};\\nvalidate rmse is: {}\".format(train_rmse_ridge,valid_rmse_ridge))\n",
        "write_submission(y_test_pred=y_test_pred_ridge,filename='ridge_submission.csv')"
      ],
      "execution_count": 31,
      "outputs": [
        {
          "output_type": "stream",
          "text": [
            "ridge train rmse is: 0.0767160907267035;\n",
            "validate rmse is: 0.13344729385213644\n"
          ],
          "name": "stdout"
        }
      ]
    },
    {
      "metadata": {
        "id": "Sm_l25w0WsXz",
        "colab_type": "text"
      },
      "cell_type": "markdown",
      "source": [
        "ridgeCV"
      ]
    },
    {
      "metadata": {
        "id": "Y8KHMJ3sDFVo",
        "colab_type": "code",
        "outputId": "7a3f90c6-5ee8-43d4-ab6e-2e13d97daf7e",
        "colab": {
          "base_uri": "https://localhost:8080/",
          "height": 70
        }
      },
      "cell_type": "code",
      "source": [
        "alphas = [1e-5,5e-5,1e-4,5e-4,1e-3,5e-3,1e-2,1e-1,1.0,10.0]    \n",
        "ridgecv = RidgeCV(alphas=alphas)\n",
        "ridgecv.fit(X_train, y_train)\n",
        "print(ridgecv.alpha_)\n",
        "y_train_pred_ridgecv = ridgecv.predict(X_train)\n",
        "y_valid_pred_ridgecv = ridgecv.predict(X_valid)\n",
        "y_test_pred_ridgecv = ridgecv.predict(test_x)\n",
        "y_test_pred_ridgecv = np.exp(y_test_pred_ridgecv) - 1\n",
        "train_rmse_ridgecv = np.sqrt(np.mean((y_train-y_train_pred_ridgecv)**2))\n",
        "valid_rmse_ridgecv = np.sqrt(np.mean((y_valid-y_valid_pred_ridgecv)**2))\n",
        "print(\"ridgecv train rmse is: {};\\nvalidate rmse is: {}\".format(train_rmse_ridgecv,valid_rmse_ridgecv))\n",
        "write_submission(y_test_pred=y_test_pred_ridgecv,filename='ridgecv_submission.csv')"
      ],
      "execution_count": 32,
      "outputs": [
        {
          "output_type": "stream",
          "text": [
            "10.0\n",
            "ridgecv train rmse is: 0.08522926015394963;\n",
            "validate rmse is: 0.11723793591139657\n"
          ],
          "name": "stdout"
        }
      ]
    },
    {
      "metadata": {
        "id": "8jgs4mjCW0fo",
        "colab_type": "text"
      },
      "cell_type": "markdown",
      "source": [
        "ElasticNet"
      ]
    },
    {
      "metadata": {
        "id": "Qet4U3UqW3aj",
        "colab_type": "code",
        "colab": {
          "base_uri": "https://localhost:8080/",
          "height": 52
        },
        "outputId": "f5432153-f658-43da-c990-4e3a7a03b564"
      },
      "cell_type": "code",
      "source": [
        "elsn = ElasticNet(alpha=0.0005, l1_ratio=0.9, random_state=42)\n",
        "elsn.fit(X_train, y_train)\n",
        "y_train_pred_elsn = elsn.predict(X_train)\n",
        "y_valid_pred_elsn = elsn.predict(X_valid)\n",
        "y_test_pred_elsn = elsn.predict(test_x)\n",
        "y_test_pred_elsn = np.exp(y_test_pred_elsn) - 1\n",
        "train_rmse_elsn = np.sqrt(np.mean((y_train-y_train_pred_elsn)**2))\n",
        "valid_rmse_elsn = np.sqrt(np.mean((y_valid-y_valid_pred_elsn)**2))\n",
        "print(\"elsn train rmse is: {};\\nvalidate rmse is: {}\".format(train_rmse_elsn,valid_rmse_elsn))\n",
        "write_submission(y_test_pred=y_test_pred_elsn,filename='elsn_submission.csv')"
      ],
      "execution_count": 33,
      "outputs": [
        {
          "output_type": "stream",
          "text": [
            "elsn train rmse is: 0.08800094129221157;\n",
            "validate rmse is: 0.11124805892650229\n"
          ],
          "name": "stdout"
        }
      ]
    },
    {
      "metadata": {
        "id": "lKoEVa5SDItY",
        "colab_type": "text"
      },
      "cell_type": "markdown",
      "source": [
        "random forest regression"
      ]
    },
    {
      "metadata": {
        "id": "IPc0ZWXnDLdX",
        "colab_type": "code",
        "outputId": "6046a550-68f1-4f9a-b68f-8e2c1e6cad2c",
        "colab": {
          "base_uri": "https://localhost:8080/",
          "height": 52
        }
      },
      "cell_type": "code",
      "source": [
        "n_estimators = 500\n",
        "randomforest = RandomForestRegressor(n_estimators=n_estimators,random_state=42)\n",
        "randomforest.fit(X_train, y_train)\n",
        "#print(-np.sort(-randomforest.feature_importances_)[:30])\n",
        "#a = -np.sort(-randomforest.feature_importances_)\n",
        "y_train_pred_randomforest = randomforest.predict(X_train)\n",
        "y_valid_pred_randomforest = randomforest.predict(X_valid)\n",
        "y_test_pred_randomforest = randomforest.predict(test_x)\n",
        "y_test_pred_randomforest = np.exp(y_test_pred_randomforest) - 1\n",
        "train_rmse_randomforest = np.sqrt(np.mean((y_train-y_train_pred_randomforest)**2))\n",
        "valid_rmse_randomforest = np.sqrt(np.mean((y_valid-y_valid_pred_randomforest)**2))\n",
        "print(\"randomforest train rmse is: {};\\nvalidate rmse is: {}\".format(train_rmse_randomforest,valid_rmse_randomforest))\n",
        "write_submission(y_test_pred=y_test_pred_randomforest,filename='randomforest_submission.csv')"
      ],
      "execution_count": 34,
      "outputs": [
        {
          "output_type": "stream",
          "text": [
            "randomforest train rmse is: 0.05035300507262424;\n",
            "validate rmse is: 0.13096940420888595\n"
          ],
          "name": "stdout"
        }
      ]
    },
    {
      "metadata": {
        "id": "iig-6b9CDOs-",
        "colab_type": "text"
      },
      "cell_type": "markdown",
      "source": [
        "XGBoost regression"
      ]
    },
    {
      "metadata": {
        "id": "SIBPMQtaDQ3f",
        "colab_type": "code",
        "outputId": "c8de07b5-575b-4f71-8bac-d4878df0335b",
        "colab": {
          "base_uri": "https://localhost:8080/",
          "height": 52
        }
      },
      "cell_type": "code",
      "source": [
        "import xgboost# as xgb\n",
        "xgb = xgboost.XGBRegressor(colsample_bytree=0.4603, gamma=0.0468, \n",
        "                             learning_rate=0.05, max_depth=3, \n",
        "                             min_child_weight=1.7817, n_estimators=2200,\n",
        "                             reg_alpha=0.4640, reg_lambda=0.8571,\n",
        "                             subsample=0.5213, silent=1, nthread = -1,random_state=42)\n",
        "xgb.fit(X_train,y_train)\n",
        "y_train_pred_xgb = xgb.predict(X_train)\n",
        "y_valid_pred_xgb = xgb.predict(X_valid)\n",
        "y_test_pred_xgb = xgb.predict(test_x)\n",
        "y_test_pred_xgb = np.exp(y_test_pred_xgb) - 1\n",
        "train_rmse_xgb = np.sqrt(np.mean((y_train-y_train_pred_xgb)**2))\n",
        "valid_rmse_xgb = np.sqrt(np.mean((y_valid-y_valid_pred_xgb)**2))\n",
        "print(\"xgb train rmse is: {};\\nvalidate rmse is: {}\".format(train_rmse_xgb,valid_rmse_xgb))\n",
        "write_submission(y_test_pred=y_test_pred_xgb,filename='xgb_submission.csv')"
      ],
      "execution_count": 47,
      "outputs": [
        {
          "output_type": "stream",
          "text": [
            "xgb train rmse is: 0.08072395057021652;\n",
            "validate rmse is: 0.10842219171747469\n"
          ],
          "name": "stdout"
        }
      ]
    },
    {
      "metadata": {
        "id": "E4cmvTSQ8eWn",
        "colab_type": "text"
      },
      "cell_type": "markdown",
      "source": [
        "ensemble method by simply averaging the results from models above"
      ]
    },
    {
      "metadata": {
        "id": "IMNYjvzU8myO",
        "colab_type": "code",
        "colab": {}
      },
      "cell_type": "code",
      "source": [
        "y_train_pred_ave = np.concatenate((y_train_pred_lassocv.reshape((-1,1)),\n",
        "                                   y_train_pred_ridgecv.reshape((-1,1)),\n",
        "                                  y_train_pred_elsn.reshape((-1,1)),\n",
        "                                  y_train_pred_xgb.reshape((-1,1))),axis=1)\n",
        "y_train_pred_ave = np.mean(y_train_pred_ave,axis=1)\n",
        "\n",
        "y_valid_pred_ave = np.concatenate((y_valid_pred_lassocv.reshape((-1,1)),\n",
        "                                   y_valid_pred_ridgecv.reshape((-1,1)),\n",
        "                                  y_valid_pred_elsn.reshape((-1,1)),\n",
        "                                  y_valid_pred_xgb.reshape((-1,1))),axis=1)\n",
        "y_valid_pred_ave = np.mean(y_valid_pred_ave,axis=1)\n",
        "\n",
        "y_test_pred_ave = np.concatenate((y_test_pred_lassocv.reshape((-1,1)),\n",
        "                                  y_test_pred_ridgecv.reshape((-1,1)),\n",
        "                                  y_test_pred_elsn.reshape((-1,1)),\n",
        "                                  y_test_pred_xgb.reshape((-1,1))),axis=1)\n",
        "y_test_pred_ave = np.mean(y_test_pred_ave,axis=1)\n",
        "\n",
        "train_rmse_ave = np.sqrt(np.mean((y_train-y_train_pred_ave)**2))\n",
        "valid_rmse_ave = np.sqrt(np.mean((y_valid-y_valid_pred_ave)**2))\n",
        "print(\"ave train rmse is: {};\\nvalidate rmse is: {}\".format(train_rmse_ave,valid_rmse_ave))\n",
        "write_submission(y_test_pred=y_test_pred_ave,filename='ave_submission.csv')"
      ],
      "execution_count": 0,
      "outputs": []
    },
    {
      "metadata": {
        "id": "RRY14yWvDTxf",
        "colab_type": "text"
      },
      "cell_type": "markdown",
      "source": [
        "stacking regression"
      ]
    },
    {
      "metadata": {
        "id": "1BUW1gOzFNyH",
        "colab_type": "code",
        "outputId": "3b13df3b-591e-4349-8453-a49eae83228d",
        "colab": {
          "base_uri": "https://localhost:8080/",
          "height": 248
        }
      },
      "cell_type": "code",
      "source": [
        "!pip install mlxtend"
      ],
      "execution_count": 36,
      "outputs": [
        {
          "output_type": "stream",
          "text": [
            "Requirement already satisfied: mlxtend in /usr/local/lib/python3.6/dist-packages (0.13.0)\n",
            "Requirement already satisfied: pandas>=0.17.1 in /usr/local/lib/python3.6/dist-packages (from mlxtend) (0.22.0)\n",
            "Requirement already satisfied: scikit-learn>=0.18 in /usr/local/lib/python3.6/dist-packages (from mlxtend) (0.19.2)\n",
            "Requirement already satisfied: scipy>=0.17 in /usr/local/lib/python3.6/dist-packages (from mlxtend) (0.19.1)\n",
            "Requirement already satisfied: numpy>=1.10.4 in /usr/local/lib/python3.6/dist-packages (from mlxtend) (1.14.6)\n",
            "Requirement already satisfied: matplotlib>=1.5.1 in /usr/local/lib/python3.6/dist-packages (from mlxtend) (2.1.2)\n",
            "Requirement already satisfied: setuptools in /usr/local/lib/python3.6/dist-packages (from mlxtend) (40.5.0)\n",
            "Requirement already satisfied: pytz>=2011k in /usr/local/lib/python3.6/dist-packages (from pandas>=0.17.1->mlxtend) (2018.7)\n",
            "Requirement already satisfied: python-dateutil>=2 in /usr/local/lib/python3.6/dist-packages (from pandas>=0.17.1->mlxtend) (2.5.3)\n",
            "Requirement already satisfied: six>=1.10 in /usr/local/lib/python3.6/dist-packages (from matplotlib>=1.5.1->mlxtend) (1.11.0)\n",
            "Requirement already satisfied: pyparsing!=2.0.4,!=2.1.2,!=2.1.6,>=2.0.1 in /usr/local/lib/python3.6/dist-packages (from matplotlib>=1.5.1->mlxtend) (2.3.0)\n",
            "Requirement already satisfied: cycler>=0.10 in /usr/local/lib/python3.6/dist-packages (from matplotlib>=1.5.1->mlxtend) (0.10.0)\n"
          ],
          "name": "stdout"
        }
      ]
    },
    {
      "metadata": {
        "id": "XSwd6_-eDYV5",
        "colab_type": "code",
        "outputId": "14058b6e-1bd3-49dc-c298-4c74512fd32a",
        "colab": {
          "base_uri": "https://localhost:8080/",
          "height": 107
        }
      },
      "cell_type": "code",
      "source": [
        "from mlxtend.regressor import StackingRegressor\n",
        "from sklearn.linear_model import LinearRegression\n",
        "from sklearn.svm import SVR\n",
        "lr = LinearRegression()\n",
        "lassocv = LassoCV(alphas=alphas)\n",
        "#ridge = Ridge(random_state=1)\n",
        "ridgecv = RidgeCV(alphas=alphas)\n",
        "rf = RandomForestRegressor(n_estimators=n_estimators)\n",
        "svr_lin = SVR(kernel='linear')\n",
        "svr_rbf = SVR(kernel='rbf')\n",
        "#regressors = [svr_lin, lr, ridge]\n",
        "regressors = [lr,lassocv,ridgecv]\n",
        "sr = StackingRegressor(regressors=regressors, \n",
        "                           meta_regressor=svr_rbf)\n",
        "sr.fit(X_train, y_train)\n",
        "y_train_pred_sr = sr.predict(X_train)\n",
        "y_valid_pred_sr = sr.predict(X_valid)\n",
        "y_test_pred_sr = sr.predict(test_x)\n",
        "y_test_pred_sr = np.exp(y_test_pred_sr) - 1\n",
        "train_rmse_sr = np.sqrt(np.mean((y_train-y_train_pred_sr)**2))\n",
        "valid_rmse_sr = np.sqrt(np.mean((y_valid-y_valid_pred_sr)**2))\n",
        "print(\"sr train rmse is: {};\\nvalidate rmse is: {}\".format(train_rmse_sr,valid_rmse_sr))\n",
        "write_submission(y_test_pred=y_test_pred_sr,filename='sr_submission.csv')"
      ],
      "execution_count": 37,
      "outputs": [
        {
          "output_type": "stream",
          "text": [
            "/usr/local/lib/python3.6/dist-packages/sklearn/linear_model/coordinate_descent.py:491: ConvergenceWarning: Objective did not converge. You might want to increase the number of iterations. Fitting data with very small alpha may cause precision problems.\n",
            "  ConvergenceWarning)\n"
          ],
          "name": "stderr"
        },
        {
          "output_type": "stream",
          "text": [
            "sr train rmse is: 0.07857576586388093;\n",
            "validate rmse is: 0.12593419366767825\n"
          ],
          "name": "stdout"
        }
      ]
    },
    {
      "metadata": {
        "id": "7MJGeYciXPc5",
        "colab_type": "text"
      },
      "cell_type": "markdown",
      "source": [
        "stacking regression with grid search, it takes too long to run and I have to skip this."
      ]
    },
    {
      "metadata": {
        "id": "bMho-mc_XSpa",
        "colab_type": "code",
        "colab": {}
      },
      "cell_type": "code",
      "source": [
        "# from sklearn.model_selection import GridSearchCV\n",
        "# from sklearn.linear_model import Lasso\n",
        "\n",
        "# # Initializing models\n",
        "# lr = LinearRegression()\n",
        "# svr_lin = SVR(kernel='linear')\n",
        "# ridge = Ridge(random_state=1)\n",
        "# lasso = Lasso(random_state=1)\n",
        "# svr_rbf = SVR(kernel='rbf')\n",
        "# regressors = [svr_lin, lr, ridge, lasso]\n",
        "# stregr = StackingRegressor(regressors=regressors, \n",
        "#                            meta_regressor=svr_rbf)\n",
        "\n",
        "# params = {'lasso__alpha': alphas,\n",
        "#           'ridge__alpha': alphas,\n",
        "#           'svr__C': [0.1, 1.0, 10.0],\n",
        "#           'meta-svr__C': [0.1, 1.0, 10.0, 100.0],\n",
        "#           'meta-svr__gamma': [0.1, 1.0, 10.0]}\n",
        "\n",
        "# grid = GridSearchCV(estimator=stregr, \n",
        "#                     param_grid=params, \n",
        "#                     cv=5,\n",
        "#                     refit=True)\n",
        "# grid.fit(X_train, y_train)\n",
        "\n",
        "# # Evaluate and visualize the fit\n",
        "# print(\"Root Mean Squared Error: %.4f\"% np.sqrt(np.mean((grid.predict(X_valid) - y_valid) ** 2)))\n",
        "# print('Variance Score: %.4f' % grid.score(X_valid, y_valid))"
      ],
      "execution_count": 0,
      "outputs": []
    },
    {
      "metadata": {
        "id": "HHtBxIqraBTj",
        "colab_type": "text"
      },
      "cell_type": "markdown",
      "source": [
        "The rmses of each method above are as follows"
      ]
    },
    {
      "metadata": {
        "id": "H-RZNajkanCI",
        "colab_type": "code",
        "colab": {
          "base_uri": "https://localhost:8080/",
          "height": 295
        },
        "outputId": "ff682511-a696-4be7-91fb-c7b556a36eef"
      },
      "cell_type": "code",
      "source": [
        "import pandas as pd\n",
        "rmses = [['lasso', valid_rmse_lasso], ['lassoCV', valid_rmse_lassocv],\n",
        "         ['ridge',valid_rmse_ridge],['ridgeCV',valid_rmse_ridgecv],\n",
        "         ['elasticnet',valid_rmse_elsn],['random forest regression',valid_rmse_randomforest],\n",
        "         ['XGBoost',valid_rmse_xgb],['XGBoost',valid_rmse_ave],['stacked regression',valid_rmse_sr]]\n",
        "pd.DataFrame(rmses, columns=[\"Method\", \"rmse\"])"
      ],
      "execution_count": 46,
      "outputs": [
        {
          "output_type": "execute_result",
          "data": {
            "text/html": [
              "<div>\n",
              "<style scoped>\n",
              "    .dataframe tbody tr th:only-of-type {\n",
              "        vertical-align: middle;\n",
              "    }\n",
              "\n",
              "    .dataframe tbody tr th {\n",
              "        vertical-align: top;\n",
              "    }\n",
              "\n",
              "    .dataframe thead th {\n",
              "        text-align: right;\n",
              "    }\n",
              "</style>\n",
              "<table border=\"1\" class=\"dataframe\">\n",
              "  <thead>\n",
              "    <tr style=\"text-align: right;\">\n",
              "      <th></th>\n",
              "      <th>Method</th>\n",
              "      <th>rmse</th>\n",
              "    </tr>\n",
              "  </thead>\n",
              "  <tbody>\n",
              "    <tr>\n",
              "      <th>0</th>\n",
              "      <td>lasso</td>\n",
              "      <td>0.122464</td>\n",
              "    </tr>\n",
              "    <tr>\n",
              "      <th>1</th>\n",
              "      <td>lassoCV</td>\n",
              "      <td>0.111198</td>\n",
              "    </tr>\n",
              "    <tr>\n",
              "      <th>2</th>\n",
              "      <td>ridge</td>\n",
              "      <td>0.133447</td>\n",
              "    </tr>\n",
              "    <tr>\n",
              "      <th>3</th>\n",
              "      <td>ridgeCV</td>\n",
              "      <td>0.117238</td>\n",
              "    </tr>\n",
              "    <tr>\n",
              "      <th>4</th>\n",
              "      <td>elasticnet</td>\n",
              "      <td>0.111248</td>\n",
              "    </tr>\n",
              "    <tr>\n",
              "      <th>5</th>\n",
              "      <td>random forest regression</td>\n",
              "      <td>0.130969</td>\n",
              "    </tr>\n",
              "    <tr>\n",
              "      <th>6</th>\n",
              "      <td>XGBoost</td>\n",
              "      <td>0.108422</td>\n",
              "    </tr>\n",
              "    <tr>\n",
              "      <th>7</th>\n",
              "      <td>stacked regression</td>\n",
              "      <td>0.125934</td>\n",
              "    </tr>\n",
              "  </tbody>\n",
              "</table>\n",
              "</div>"
            ],
            "text/plain": [
              "                     Method      rmse\n",
              "0                     lasso  0.122464\n",
              "1                   lassoCV  0.111198\n",
              "2                     ridge  0.133447\n",
              "3                   ridgeCV  0.117238\n",
              "4                elasticnet  0.111248\n",
              "5  random forest regression  0.130969\n",
              "6                   XGBoost  0.108422\n",
              "7        stacked regression  0.125934"
            ]
          },
          "metadata": {
            "tags": []
          },
          "execution_count": 46
        }
      ]
    },
    {
      "metadata": {
        "id": "RPBuqrq-cDxY",
        "colab_type": "text"
      },
      "cell_type": "markdown",
      "source": [
        "from the above we can see that the XGBoost is the best. the performance of stacked regression is not very good and it probablly because I didn't tune the parameters. The performance of random forest is not good maybe because the subfeatures that selected by many submodels are not revelant."
      ]
    }
  ]
}